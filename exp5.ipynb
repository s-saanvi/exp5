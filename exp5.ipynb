import numpy as np
import matplotlib.pyplot as plt
from sklearn.neighbors import KNeighborsClassifier

x = np.random.rand(100)
y = np.array(['Class1' if val <= 0.5 else 'Class2' for val in x[:50]])
X_train, X_test = x[:50].reshape(-1,1), x[50:].reshape(-1,1)
k_vals = [1, 2, 3, 4, 5, 20, 30]

for k in k_vals:
    model = KNeighborsClassifier(n_neighbors=k).fit(X_train, y)
    preds = model.predict(X_test)
    print(f"\nResults for k = {k}:")
    for i, (val, p) in enumerate(zip(x[50:], preds), start=51):
        print(f"x{i} = {val:.3f}, predicted Class = {p}")

plt.figure(figsize=(10,6))
plt.scatter(X_train, [1]*len(X_train), c=['blue' if lbl=='Class1' else 'red' for lbl in y], label='Train')
plt.scatter(X_test, [0]*len(X_test), c='green', label='Test')
plt.axvline(0.1, color='gray', ls='--', label='x = 0.1')
plt.yticks([])
plt.legend(), plt.title("Training and Test Points"), plt.xlabel("x values")
plt.show()
