import numpy as np, matplotlib.pyplot as plt
from sklearn.neighbors import KNeighborsClassifier

x = np.random.rand(100)
y = np.array(['Class1' if v <= 0.5 else 'Class2' for v in x[:50]])
Xtr, Xte = x[:50].reshape(-1,1), x[50:].reshape(-1,1)

for k in [1,2,3,4,5,20,30]:
    m = KNeighborsClassifier(k).fit(Xtr, y)
    print(f"\nk={k}:"); [print(f"x{i+51}={v:.3f}, pred={p}") for i,(v,p) in enumerate(zip(x[50:], m.predict(Xte)))]
plt.figure(figsize=(10,6))
plt.scatter(Xtr, [1]*50, c=['b' if l=='Class1' else 'r' for l in y])
plt.scatter(Xte, [0]*50, c='g'); plt.axvline(0.1, c='gray', ls='--')
plt.yticks([]); plt.title("Train/Test Points"); plt.xlabel("x"); plt.show()
